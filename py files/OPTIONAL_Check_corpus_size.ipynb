{
 "cells": [
  {
   "cell_type": "code",
   "execution_count": 1,
   "id": "c1b5eed7",
   "metadata": {
    "ExecuteTime": {
     "end_time": "2021-06-21T16:10:18.631723Z",
     "start_time": "2021-06-21T16:10:13.850476Z"
    }
   },
   "outputs": [],
   "source": [
    "import nltk\n",
    "from nltk.corpus import stopwords\n",
    "import re\n",
    "import numpy as np\n",
    "import tqdm\n",
    "from pprint import pprint\n",
    "import logging\n",
    "import texthero as hero\n",
    "from texthero import preprocessing\n",
    "import pandas as pd\n",
    "from IPython.display import Audio, display\n",
    "def allDone():\n",
    "    display(Audio(url='https://sound.peal.io/ps/audios/000/000/537/original/woo_vu_luvub_dub_dub.wav', autoplay=True))\n",
    "import warnings\n",
    "warnings.filterwarnings(\"ignore\")\n",
    "import csv\n",
    "csv.field_size_limit()\n",
    "131072\n",
    "csv.field_size_limit(256 << 10)\n",
    "131072\n",
    "csv.field_size_limit()\n",
    "262144\n",
    "logging.basicConfig(\n",
    "    format='%(asctime)s : %(levelname)s : %(message)s', level=logging.ERROR)\n",
    "warnings.filterwarnings(\"ignore\", category=DeprecationWarning)\n",
    "from gensim.models.coherencemodel import CoherenceModel\n",
    "from gensim.models.ldamodel import LdaModel\n",
    "from gensim.test.utils import common_corpus, common_dictionary\n",
    "from gensim.models import LdaModel\n",
    "from pprint import pprint\n",
    "from gensim.models import CoherenceModel, LdaModel, LsiModel, HdpModel\n",
    "import numpy as np\n",
    "import gensim\n",
    "import matplotlib.pyplot as plt\n",
    "import operator\n",
    "import re\n",
    "import os\n",
    "from IPython.core.display import display, HTML\n",
    "import warnings\n",
    "#import pyLDAvis.gensim_models\n",
    "from sklearn.manifold import TSNE\n",
    "from sklearn.decomposition import LatentDirichletAllocation\n",
    "import pyLDAvis\n",
    "import pandas as pd\n",
    "from gensim.corpora import Dictionary\n",
    "from gensim.models import TfidfModel\n",
    "import gensim.downloader as api\n",
    "\n",
    "# Set up log to external log file\n",
    "import logging\n",
    "logging.basicConfig(filename='lda_model.log', format='%(asctime)s : %(levelname)s : %(message)s', level=logging.INFO)\n",
    "\n",
    "# Set up log to terminal\n",
    "#import logging\n",
    "logging.basicConfig(format='%(asctime)s : %(levelname)s : %(message)s', level=logging.INFO)\n",
    "\n",
    "#%% Load file\n",
    "df = pd.read_csv('C:/Users/user/Documents/1. GitHub/Projeto 5-NLP-SP-City-Hall/tables_clean_lem/seguranca_urbana_haddad.csv', sep=r'Γ')\n",
    "df = df.dropna()\n",
    "train_text = df['clean_lem']"
   ]
  },
  {
   "cell_type": "code",
   "execution_count": 2,
   "id": "437c7e39",
   "metadata": {
    "ExecuteTime": {
     "end_time": "2021-06-21T16:10:18.648652Z",
     "start_time": "2021-06-21T16:10:18.632694Z"
    }
   },
   "outputs": [
    {
     "name": "stderr",
     "output_type": "stream",
     "text": [
      "C:\\Users\\user\\AppData\\Local\\Packages\\PythonSoftwareFoundation.Python.3.9_qbz5n2kfra8p0\\LocalCache\\local-packages\\Python39\\site-packages\\ipykernel\\ipkernel.py:283: DeprecationWarning: `should_run_async` will not call `transform_cell` automatically in the future. Please pass the result to `transformed_cell` argument and any exception that happen during thetransform in `preprocessing_exc_tuple` in IPython 7.17 and above.\n",
      "  and should_run_async(code)\n"
     ]
    }
   ],
   "source": [
    "#%% \n",
    "# Create tokens\n",
    "tokenized_sentences = [p.lower().split() for p in train_text]\n",
    "# Other names commonly used on variables by communitty (WE'VE DECIDED TO USE TEXTS FOR TOKENIZED CORPUS)\n",
    "texts = tokenized_sentences"
   ]
  },
  {
   "cell_type": "code",
   "execution_count": 4,
   "id": "6a62d970",
   "metadata": {
    "ExecuteTime": {
     "end_time": "2021-06-21T16:11:03.264133Z",
     "start_time": "2021-06-21T16:11:00.501517Z"
    }
   },
   "outputs": [
    {
     "name": "stderr",
     "output_type": "stream",
     "text": [
      "C:\\Users\\user\\AppData\\Local\\Packages\\PythonSoftwareFoundation.Python.3.9_qbz5n2kfra8p0\\LocalCache\\local-packages\\Python39\\site-packages\\ipykernel\\ipkernel.py:283: DeprecationWarning: `should_run_async` will not call `transform_cell` automatically in the future. Please pass the result to `transformed_cell` argument and any exception that happen during thetransform in `preprocessing_exc_tuple` in IPython 7.17 and above.\n",
      "  and should_run_async(code)\n"
     ]
    },
    {
     "ename": "AttributeError",
     "evalue": "'list' object has no attribute 'value_counts'",
     "output_type": "error",
     "traceback": [
      "\u001b[1;31m---------------------------------------------------------------------------\u001b[0m",
      "\u001b[1;31mAttributeError\u001b[0m                            Traceback (most recent call last)",
      "\u001b[1;32m<ipython-input-4-e487ab27bd43>\u001b[0m in \u001b[0;36m<module>\u001b[1;34m\u001b[0m\n\u001b[1;32m----> 1\u001b[1;33m \u001b[0mtexts\u001b[0m\u001b[1;33m.\u001b[0m\u001b[0mvalue_counts\u001b[0m\u001b[1;33m(\u001b[0m\u001b[1;33m)\u001b[0m\u001b[1;33m\u001b[0m\u001b[1;33m\u001b[0m\u001b[0m\n\u001b[0m",
      "\u001b[1;31mAttributeError\u001b[0m: 'list' object has no attribute 'value_counts'"
     ]
    }
   ],
   "source": [
    "texts.value_counts()"
   ]
  },
  {
   "cell_type": "code",
   "execution_count": 6,
   "id": "e1a55aba",
   "metadata": {
    "ExecuteTime": {
     "end_time": "2021-06-21T16:13:44.729456Z",
     "start_time": "2021-06-21T16:13:44.724492Z"
    }
   },
   "outputs": [
    {
     "name": "stdout",
     "output_type": "stream",
     "text": [
      "Number of lists in list =  1048\n",
      "Total Number of elements :  65629\n"
     ]
    },
    {
     "name": "stderr",
     "output_type": "stream",
     "text": [
      "C:\\Users\\user\\AppData\\Local\\Packages\\PythonSoftwareFoundation.Python.3.9_qbz5n2kfra8p0\\LocalCache\\local-packages\\Python39\\site-packages\\ipykernel\\ipkernel.py:283: DeprecationWarning: `should_run_async` will not call `transform_cell` automatically in the future. Please pass the result to `transformed_cell` argument and any exception that happen during thetransform in `preprocessing_exc_tuple` in IPython 7.17 and above.\n",
      "  and should_run_async(code)\n"
     ]
    }
   ],
   "source": [
    "length = len(texts)\n",
    "print('Number of lists in list = ', length)\n",
    "count = 0\n",
    "for listElem in texts:\n",
    "    count += len(listElem)                    \n",
    "print('Total Number of elements : ', count)"
   ]
  },
  {
   "cell_type": "code",
   "execution_count": null,
   "id": "f0a46bca",
   "metadata": {},
   "outputs": [],
   "source": []
  }
 ],
 "metadata": {
  "kernelspec": {
   "display_name": "Python 3",
   "language": "python",
   "name": "python3"
  },
  "language_info": {
   "codemirror_mode": {
    "name": "ipython",
    "version": 3
   },
   "file_extension": ".py",
   "mimetype": "text/x-python",
   "name": "python",
   "nbconvert_exporter": "python",
   "pygments_lexer": "ipython3",
   "version": "3.9.5"
  },
  "toc": {
   "base_numbering": 1,
   "nav_menu": {},
   "number_sections": true,
   "sideBar": true,
   "skip_h1_title": false,
   "title_cell": "Table of Contents",
   "title_sidebar": "Contents",
   "toc_cell": false,
   "toc_position": {},
   "toc_section_display": true,
   "toc_window_display": false
  }
 },
 "nbformat": 4,
 "nbformat_minor": 5
}
