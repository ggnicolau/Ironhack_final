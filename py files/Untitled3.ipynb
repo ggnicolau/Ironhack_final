{
 "cells": [
  {
   "cell_type": "code",
   "execution_count": 8,
   "id": "c5aa95cf",
   "metadata": {
    "ExecuteTime": {
     "end_time": "2021-06-22T23:19:56.386317Z",
     "start_time": "2021-06-22T23:19:56.379337Z"
    }
   },
   "outputs": [
    {
     "ename": "ValueError",
     "evalue": "Sign not allowed in string format specifier",
     "output_type": "error",
     "traceback": [
      "\u001b[1;31m---------------------------------------------------------------------------\u001b[0m",
      "\u001b[1;31mValueError\u001b[0m                                Traceback (most recent call last)",
      "\u001b[1;32m<ipython-input-8-9ef0cf51646b>\u001b[0m in \u001b[0;36m<module>\u001b[1;34m\u001b[0m\n\u001b[1;32m----> 1\u001b[1;33m \u001b[0mprint\u001b[0m\u001b[1;33m(\u001b[0m\u001b[1;34mf'{author: {5}}'\u001b[0m\u001b[1;33m)\u001b[0m\u001b[1;33m\u001b[0m\u001b[1;33m\u001b[0m\u001b[0m\n\u001b[0m",
      "\u001b[1;31mValueError\u001b[0m: Sign not allowed in string format specifier"
     ]
    }
   ],
   "source": [
    "print(f'{author: {5}}')"
   ]
  },
  {
   "cell_type": "code",
   "execution_count": 6,
   "id": "d04ab3ef",
   "metadata": {
    "ExecuteTime": {
     "end_time": "2021-06-22T23:19:21.478158Z",
     "start_time": "2021-06-22T23:19:21.475165Z"
    }
   },
   "outputs": [],
   "source": [
    "author = 'Twain'"
   ]
  },
  {
   "cell_type": "code",
   "execution_count": null,
   "id": "db974022",
   "metadata": {},
   "outputs": [],
   "source": []
  }
 ],
 "metadata": {
  "kernelspec": {
   "display_name": "Python 3",
   "language": "python",
   "name": "python3"
  },
  "language_info": {
   "codemirror_mode": {
    "name": "ipython",
    "version": 3
   },
   "file_extension": ".py",
   "mimetype": "text/x-python",
   "name": "python",
   "nbconvert_exporter": "python",
   "pygments_lexer": "ipython3",
   "version": "3.9.5"
  },
  "toc": {
   "base_numbering": 1,
   "nav_menu": {},
   "number_sections": true,
   "sideBar": true,
   "skip_h1_title": false,
   "title_cell": "Table of Contents",
   "title_sidebar": "Contents",
   "toc_cell": false,
   "toc_position": {},
   "toc_section_display": true,
   "toc_window_display": false
  }
 },
 "nbformat": 4,
 "nbformat_minor": 5
}
